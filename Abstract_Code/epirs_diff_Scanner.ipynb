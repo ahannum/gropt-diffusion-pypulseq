{
 "cells": [
  {
   "cell_type": "code",
   "execution_count": 61,
   "metadata": {},
   "outputs": [
    {
     "name": "stdout",
     "output_type": "stream",
     "text": [
      "The autoreload extension is already loaded. To reload it, use:\n",
      "  %reload_ext autoreload\n"
     ]
    }
   ],
   "source": [
    "%load_ext autoreload\n",
    "%autoreload 2\n",
    "\n",
    "import numpy as np\n",
    "import pypulseq as pp\n",
    "import matplotlib.pyplot as plt\n",
    "\n",
    "from diff_epi_tools import make_diff_epirs, plot_trajectory\n",
    "\n",
    "import sys\n",
    "sys.path.append(\"/Users/arielhannum/Documents/GitHub/gropt/python\")\n",
    "import gropt\n",
    "\n",
    "sys.path.append(\"../\")\n",
    "from gropt_waveforms import *\n",
    "from trap_waveforms_pulseq import *\n",
    "import os"
   ]
  },
  {
   "cell_type": "code",
   "execution_count": 62,
   "metadata": {},
   "outputs": [],
   "source": [
    "max_slew_diffusion = 178 #178 or 43\n",
    "pns_thresh = 0.95\n",
    "max_grad = 38 # 38 or 200\n",
    "mode = 'Brain'\n",
    "ii = 3\n",
    "waveform  = 'T' # T = Trap or G = Gropt\n",
    "system = pp.Opts()"
   ]
  },
  {
   "cell_type": "code",
   "execution_count": 63,
   "metadata": {},
   "outputs": [],
   "source": [
    "heart_bval = [250,500,750,1000]\n",
    "liver_bval = [250,500,750,1000]\n",
    "brain_bval = [250,500,750,1000]\n",
    "\n",
    "Brain = {'Nx':80,\n",
    "        'Ny':80,\n",
    "        'fovx': 200e-3, \n",
    "        'fovy': 200e-3, \n",
    "        'partial_fourier': 6/8, \n",
    "        'slice_thickness': 6e-3,\n",
    "        'b': brain_bval[ii],\n",
    "        'MMT':0,\n",
    "}\n",
    "\n",
    "Liver = {'Nx':80,\n",
    "        'Ny':80,\n",
    "        'fovx': 200e-3, \n",
    "        'fovy': 200e-3, \n",
    "        'partial_fourier':  6/8, \n",
    "        'slice_thickness': 6e-3,\n",
    "        'b':liver_bval[ii],\n",
    "        'MMT':1,\n",
    "}\n",
    "\n",
    "Heart = {'Nx':80,\n",
    "        'Ny':80,\n",
    "        'fovx': 200e-3, \n",
    "        'fovy': 200e-3, \n",
    "        'partial_fourier':  6/8, \n",
    "        'slice_thickness': 6e-3,\n",
    "        'b':heart_bval[ii],\n",
    "        'MMT':2,\n",
    "}\n",
    "\n",
    "if pns_thresh == None:\n",
    "    folder = 'Exp-1'\n",
    "elif pns_thresh == 0.95 and max_slew_diffusion == 178:\n",
    "    folder = 'Exp-2.5'\n",
    "elif pns_thresh == 0.95 and max_slew_diffusion == 43:\n",
    "    folder = 'Exp-3'\n",
    "\n",
    "if max_grad == 200:\n",
    "    scanner = 'High'\n",
    "elif max_grad == 38:\n",
    "    scanner = 'Conv'\n",
    "\n",
    "if mode =='Brain': \n",
    "    input_args = Brain\n",
    "if mode =='Liver': \n",
    "    input_args = Liver\n",
    "if mode =='Heart': \n",
    "    input_args = Heart\n",
    "    \n",
    "input_args['pns_thresh'] = pns_thresh\n",
    "\n",
    "savename = os.path.join('Sequences-phantom-2',folder, scanner,mode + '_2.5_' + waveform + '_b'+str(input_args['b'])+'_pns'+str(input_args['pns_thresh'])+'_s'+str(max_slew_diffusion))\n",
    "if not os.path.exists(os.path.join('Sequences-phantom-2',folder, scanner)):\n",
    "    os.makedirs(os.path.join('Sequences-phantom-2',folder, scanner))\n",
    "\n",
    "matsave = os.path.join('Waveforms-phantom-2',folder, scanner,mode + '_2.5_' + waveform + '_b'+str(input_args['b'])+'_pns'+str(input_args['pns_thresh'])+'_s'+str(max_slew_diffusion))\n",
    "if not os.path.exists(os.path.join('Waveforms-phantom-2',folder, scanner)):\n",
    "    os.makedirs(os.path.join('Waveforms-phantom-2',folder, scanner))\n",
    "\n"
   ]
  },
  {
   "cell_type": "code",
   "execution_count": 66,
   "metadata": {},
   "outputs": [
    {
     "name": "stdout",
     "output_type": "stream",
     "text": [
      "{'Nx': 80, 'Ny': 80, 'fovx': 0.2, 'fovy': 0.2, 'partial_fourier': 0.75, 'R': 1.0, 'slice_thickness': 0.006, 'Navg': 5, 'delay_TR': 3, 'seq_filename': 'diff_calib_temp.seq', 'gmax_full': 38, 'smax_full': 178, 'do_fatsat': True, 'pe_enable': False, 'write_seq': True}\n",
      "blip_duration 8e-05\n",
      "kx_width 400.0\n",
      "kx_width = 400.00\n",
      "extra_area = 8.17\n",
      "1000*pp.calc_duration(gx_fastest) = 0.58\n",
      "1000*readout_time = 0.60\n",
      "1000*(readout_time + blip_duration) = 0.68\n",
      "1000*pp.calc_duration(gx) = 0.68\n",
      "0.00068\n",
      "BANDWIDTH 1984.126984126984\n",
      "Timing check passed successfully\n",
      "timings.keys() = dict_keys(['t_90', 't_180', 't_readout', 'delay_TE1', 'delay_TE2'])\n",
      "1e3 * timings['t_90'] = 1.59\n",
      "1e3 * timings['t_180'] = 3.92\n",
      "1e3 * timings['t_readout'] = 20.46\n"
     ]
    }
   ],
   "source": [
    "# Put common arguments for the epi function here, because we call it twice and want to make sure our calls are consistent\n",
    "epi_kwargs = {'Nx':input_args['Nx'],\n",
    "              'Ny':input_args['Ny'],\n",
    "              'fovx': input_args['fovx'], \n",
    "              'fovy': input_args['fovy'], \n",
    "              'partial_fourier':  input_args['partial_fourier'], \n",
    "              'R': 1.0,\n",
    "              'slice_thickness': input_args['slice_thickness'],\n",
    "              'Navg':5,\n",
    "              'delay_TR': 3,  # just for better plotting in this demo, default is 3 (s)\n",
    "              'seq_filename': savename + '.seq',\n",
    "              'gmax_full':max_grad,\n",
    "              'seq_filename': savename + \".seq\", \n",
    "              'smax_full': 178,\n",
    "              'do_fatsat':  True,\n",
    "              'pe_enable': False,\n",
    "              'seq_filename': \"diff_calib_temp.seq\", \n",
    "              'write_seq':  True,\n",
    "            }\n",
    "\n",
    "print(epi_kwargs)\n",
    "_, timings = make_diff_epirs(**epi_kwargs, timings_only=False, )  # \"timings_only=True\" stops building the seq after figuring out timings\n",
    "\n",
    "# timings is a dict with the three important timings, and delay_T1, delay_T2\n",
    "print(f\"{timings.keys() = }\")\n",
    "print(f\"{1e3 * timings['t_90'] = :.2f}\")\n",
    "print(f\"{1e3 * timings['t_180'] = :.2f}\")\n",
    "print(f\"{1e3 * timings['t_readout'] = :.2f}\")\n"
   ]
  },
  {
   "cell_type": "code",
   "execution_count": 53,
   "metadata": {},
   "outputs": [
    {
     "data": {
      "text/plain": [
       "0.68"
      ]
     },
     "execution_count": 53,
     "metadata": {},
     "output_type": "execute_result"
    }
   ],
   "source": [
    "0.00068*1e3"
   ]
  },
  {
   "cell_type": "code",
   "execution_count": 54,
   "metadata": {},
   "outputs": [
    {
     "name": "stdout",
     "output_type": "stream",
     "text": [
      "\tPNS is 0.91\n",
      "TE = 80.31\n",
      "TE = 80.31 ms\n"
     ]
    }
   ],
   "source": [
    "# Here we initialize designing the gradient whether it is a TRAP or GROPT Waveform \n",
    "params = {\n",
    "        'gmax':max_grad, #mT/m --> Lower this a little to like 38\n",
    "        'smax':max_slew_diffusion, #T/m/ms --> Lower this a little to like 190\n",
    "        'T_readout':  timings['t_readout'] * 1e3, #ms\n",
    "        'T_90': timings['t_90']*1e3, #ms\n",
    "        'T_180': timings['t_180'] * 1e3, #ms\n",
    "        'mode' : 'diff_bval',\n",
    "        'MMT' : input_args['MMT'], # either [0, 1, 2] depending on level of motion compensation\n",
    "        'b': input_args['b'], # s/mm2,\n",
    "    }\n",
    "    \n",
    "if mode == 'Heart' and params['b'] == 500:\n",
    "        params['gmax']-=2\n",
    "if mode == 'Heart' and params['b'] == 750:\n",
    "        params['gmax']-=2\n",
    "if mode == 'Heart' and params['b'] == 1000:\n",
    "        params['gmax']-=4\n",
    "if mode == 'Liver' and params['b'] == 1000:\n",
    "        params['gmax']-=2\n",
    "\n",
    "if pns_thresh is not None:\n",
    "        params['pns_thresh'] = pns_thresh\n",
    "\n",
    "if waveform =='T': #We do TRAPS \n",
    "    params['dt'] =1e-5 # system.grad_raster_time\n",
    "    params['gmax'] -=1\n",
    "\n",
    "    if pns_thresh == None:\n",
    "            params['pns_thresh'] = 3\n",
    "            pns_thresh = 3\n",
    "\n",
    "    if max_slew_diffusion > 100:\n",
    "        params['smax'] = 100\n",
    "    start_bval = params['b']\n",
    "    gradient,Time,T_start,start_bval,p,= calc_trap(params.copy(),0.005,pns_thresh)\n",
    "    params['TE']  = T_start\n",
    "    print('TE = {:.2f}'.format(T_start))\n",
    "\n",
    "elif waveform == 'G':\n",
    "    params['dt'] = 3e-5\n",
    "    gradient,Time,T_start,start_bval,p,= calc_trap(params.copy(),0.01,2)\n",
    "    params['dt'] = 8e-5\n",
    "    \n",
    "    params2, gradient, te_track, b_track= calc_grop_hybrid(params.copy(), start_bval, T_start, 0.01, iterations=60)\n",
    "    params = params2.copy()\n",
    "print('TE = {:.2f} ms'.format(params['TE']))"
   ]
  },
  {
   "cell_type": "code",
   "execution_count": 55,
   "metadata": {},
   "outputs": [
    {
     "name": "stdout",
     "output_type": "stream",
     "text": [
      "Bval = 995.47s/mm2\n",
      "blip_duration 8e-05\n",
      "kx_width 400.0\n",
      "kx_width = 400.00\n",
      "extra_area = 8.17\n",
      "1000*pp.calc_duration(gx_fastest) = 0.58\n",
      "1000*readout_time = 0.60\n",
      "1000*(readout_time + blip_duration) = 0.68\n",
      "1000*pp.calc_duration(gx) = 0.68\n",
      "0.00068\n",
      "-3\n",
      "Segment lengths 159 3861 4250 6021\n",
      "3702 3664.0000000000005\n",
      "1738 1770.9999999999998\n"
     ]
    },
    {
     "data": {
      "image/png": "[encoded data removed]",
      "text/plain": [
       "<Figure size 864x432 with 1 Axes>"
      ]
     },
     "metadata": {
      "needs_background": "light"
     },
     "output_type": "display_data"
    }
   ],
   "source": [
    "# Recompute G for gropt so it is the raster timing \n",
    "if waveform == 'T':\n",
    "    epi_kwargs['TE'] = T_start*1e-3\n",
    "    params['dt_out'] = system.grad_raster_time\n",
    "    bval_params=params.copy()\n",
    "    test = get_bval(gradient,bval_params)\n",
    "    print('Bval = {:.2f}s/mm2'.format(test))\n",
    "\n",
    "    \n",
    "if waveform == 'G':\n",
    "    params['dt_out'] = system.grad_raster_time\n",
    "    gradient,_ = gropt.gropt(params.copy())\n",
    "    bval_params=params.copy()\n",
    "    bval_params['dt'] = system.grad_raster_time\n",
    "    test = get_bval(gradient,bval_params)\n",
    "    print('Bval = {:.2f}s/mm2'.format(test))\n",
    "    epi_kwargs['TE'] = params['TE']*1e-3\n",
    "\n",
    "# Recompute Timings for Our TE\n",
    "G= np.squeeze(gradient)\n",
    "_, timings = make_diff_epirs(**epi_kwargs, timings_only=True)  # \"timings_only=True\" stops building the seq after figuring out timings\n",
    "\n",
    "adj_factor = 0\n",
    "adj_factor1 = 0\n",
    "\n",
    "if waveform == 'G':\n",
    "    adj_factor = -5\n",
    "if waveform == 'T':\n",
    "    adj_factor = -3\n",
    "    adj_factor1 = 38\n",
    "\n",
    "print(adj_factor)\n",
    "seg1_start = int(params['T_90']/params['dt_out']/1e3)\n",
    "seg1_stop = int(seg1_start + timings['delay_TE1']/params['dt_out']) + adj_factor1\n",
    "\n",
    "seg2_start = int(seg1_stop + params['T_180']/params['dt_out']/1e3)+adj_factor\n",
    "seg2_stop = int(seg2_start + timings['delay_TE2']/params['dt_out'])#-adj_factor\n",
    "\n",
    "print('Segment lengths',seg1_start, seg1_stop, seg2_start, seg2_stop,)\n",
    "\n",
    "diff_grad1 = G[seg1_start:seg1_stop]\n",
    "diff_grad2 = G[seg2_start:seg2_stop]\n",
    "\n",
    "print(diff_grad1.size, timings['delay_TE1']/10e-6)\n",
    "print(diff_grad2.size, timings['delay_TE2']/10e-6)\n",
    "\n",
    "time = np.linspace(0,len(G),len(G))\n",
    "plt.figure(figsize=(12,6))\n",
    "plt.grid()\n",
    "plt.plot(time,G,linewidth =3 )\n",
    "plt.plot(time[seg1_start:seg1_stop],diff_grad1,linewidth =3 )\n",
    "plt.plot(time[seg2_start:seg2_stop],diff_grad2,linewidth =3 )\n",
    "plt.show()"
   ]
  },
  {
   "cell_type": "code",
   "execution_count": 56,
   "metadata": {},
   "outputs": [
    {
     "name": "stdout",
     "output_type": "stream",
     "text": [
      "blip_duration 8e-05\n",
      "kx_width 400.0\n",
      "kx_width = 400.00\n",
      "extra_area = 8.17\n",
      "1000*pp.calc_duration(gx_fastest) = 0.58\n",
      "1000*readout_time = 0.60\n",
      "1000*(readout_time + blip_duration) = 0.68\n",
      "1000*pp.calc_duration(gx) = 0.68\n",
      "0.00068\n",
      "BANDWIDTH 1984.126984126984\n",
      "WARNING: diff_grad1 duration = 37.02 ms  !=   delay_TE1 = 36.64\n",
      "WARNING: diff_grad2 duration = 17.38 ms  !=   delay_TE2 = 17.71\n",
      "WARNING: diff_grad1 duration = 37.02 ms  !=   delay_TE1 = 36.64\n",
      "WARNING: diff_grad2 duration = 17.38 ms  !=   delay_TE2 = 17.71\n",
      "WARNING: diff_grad1 duration = 37.02 ms  !=   delay_TE1 = 36.64\n",
      "WARNING: diff_grad2 duration = 17.38 ms  !=   delay_TE2 = 17.71\n",
      "WARNING: diff_grad1 duration = 37.02 ms  !=   delay_TE1 = 36.64\n",
      "WARNING: diff_grad2 duration = 17.38 ms  !=   delay_TE2 = 17.71\n",
      "Timing check passed successfully\n"
     ]
    }
   ],
   "source": [
    "# Either save the seq object after this call, or use arguments: seq_filename = \"<savename>.seq\" and write_seq = True\n",
    "seq, timings = make_diff_epirs(diff_grad1 = diff_grad1, diff_grad2 = diff_grad2,write_seq=True,\n",
    "                                 **epi_kwargs,)"
   ]
  },
  {
   "cell_type": "code",
   "execution_count": 57,
   "metadata": {},
   "outputs": [
    {
     "data": {
      "image/png": "[encoded data removed]",
      "text/plain": [
       "<Figure size 864x432 with 3 Axes>"
      ]
     },
     "metadata": {
      "needs_background": "light"
     },
     "output_type": "display_data"
    },
    {
     "data": {
      "image/png": "[encoded data removed]",
      "text/plain": [
       "<Figure size 432x288 with 3 Axes>"
      ]
     },
     "metadata": {
      "needs_background": "light"
     },
     "output_type": "display_data"
    }
   ],
   "source": [
    "plt.figure(figsize=(12,6))\n",
    "seq.plot(time_disp = 'ms', grad_disp='mT/m',time_range=(0,0.1))\n",
    "# plot_trajectory(seq)  # This is messed up right now for more than 1 TR "
   ]
  },
  {
   "cell_type": "code",
   "execution_count": 58,
   "metadata": {},
   "outputs": [],
   "source": [
    "from scipy.io import savemat\n",
    "save_params = params.copy()\n",
    "save_params['TE'] = epi_kwargs['TE']*1e3\n",
    "save_params['Grad'] = G\n",
    "save_params['Time'] = time\n",
    "\n",
    "savemat(matsave + '.mat',save_params)"
   ]
  },
  {
   "cell_type": "code",
   "execution_count": 59,
   "metadata": {},
   "outputs": [
    {
     "data": {
      "text/plain": [
       "80.31499999999912"
      ]
     },
     "execution_count": 59,
     "metadata": {},
     "output_type": "execute_result"
    }
   ],
   "source": [
    "save_params['TE']"
   ]
  },
  {
   "cell_type": "code",
   "execution_count": 60,
   "metadata": {},
   "outputs": [
    {
     "data": {
      "text/plain": [
       "995.4747153117131"
      ]
     },
     "execution_count": 60,
     "metadata": {},
     "output_type": "execute_result"
    }
   ],
   "source": [
    "start_bval"
   ]
  },
  {
   "cell_type": "code",
   "execution_count": null,
   "metadata": {},
   "outputs": [],
   "source": []
  },
  {
   "cell_type": "code",
   "execution_count": null,
   "metadata": {},
   "outputs": [],
   "source": []
  },
  {
   "cell_type": "code",
   "execution_count": null,
   "metadata": {},
   "outputs": [],
   "source": []
  }
 ],
 "metadata": {
  "kernelspec": {
   "display_name": "Python 3.8.8 ('base')",
   "language": "python",
   "name": "python3"
  },
  "language_info": {
   "codemirror_mode": {
    "name": "ipython",
    "version": 3
   },
   "file_extension": ".py",
   "mimetype": "text/x-python",
   "name": "python",
   "nbconvert_exporter": "python",
   "pygments_lexer": "ipython3",
   "version": "3.8.8"
  },
  "orig_nbformat": 4,
  "vscode": {
   "interpreter": {
    "hash": "6c8cf18e8b2eff371b76e351ed7fc879961be58abee7a7213b732cee5e114a72"
   }
  }
 },
 "nbformat": 4,
 "nbformat_minor": 2
}
