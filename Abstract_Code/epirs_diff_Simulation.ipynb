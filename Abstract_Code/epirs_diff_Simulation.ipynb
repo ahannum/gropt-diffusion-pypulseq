{
 "cells": [
  {
   "cell_type": "code",
   "execution_count": 159,
   "metadata": {},
   "outputs": [
    {
     "name": "stdout",
     "output_type": "stream",
     "text": [
      "The autoreload extension is already loaded. To reload it, use:\n",
      "  %reload_ext autoreload\n"
     ]
    }
   ],
   "source": [
    "%load_ext autoreload\n",
    "%autoreload 2\n",
    "\n",
    "import numpy as np\n",
    "import pypulseq as pp\n",
    "import matplotlib.pyplot as plt\n",
    "\n",
    "from diff_epi_tools import make_diff_epirs, plot_trajectory\n",
    "\n",
    "import sys\n",
    "sys.path.append(\"/Users/arielhannum/Documents/GitHub/gropt/python\")\n",
    "import gropt\n",
    "\n",
    "sys.path.append(\"../\")\n",
    "from gropt_waveforms import *\n",
    "from trap_waveforms import *\n",
    "import os"
   ]
  },
  {
   "cell_type": "code",
   "execution_count": 160,
   "metadata": {},
   "outputs": [],
   "source": [
    "max_slew_diffusion = 178#178 or 43\n",
    "pns_thresh = None\n",
    "max_grad = 43 # 38 or 200\n",
    "mode = 'Brain'\n",
    "ii = 0\n",
    "waveform  = 'T' # T = Trap or G = Gropt\n",
    "system = pp.Opts()"
   ]
  },
  {
   "cell_type": "code",
   "execution_count": 161,
   "metadata": {},
   "outputs": [
    {
     "name": "stdout",
     "output_type": "stream",
     "text": [
      "Waveforms-Sim3/Exp-1/High/Brain_T_b1000_pnsNone_s178\n"
     ]
    },
    {
     "data": {
      "text/plain": [
       "{'Nx': 140,\n",
       " 'Ny': 140,\n",
       " 'fovx': 0.21,\n",
       " 'fovy': 0.21,\n",
       " 'partial_fourier': 0.75,\n",
       " 'slice_thickness': 0.002,\n",
       " 'b': 1000,\n",
       " 'MMT': 0,\n",
       " 'T_90': 1.59,\n",
       " 'T_180': 3.92,\n",
       " 'T_readout': 25.85,\n",
       " 'pns_thresh': None}"
      ]
     },
     "execution_count": 161,
     "metadata": {},
     "output_type": "execute_result"
    }
   ],
   "source": [
    "heart_bval = [350,500]\n",
    "liver_bval = [600,800]\n",
    "brain_bval = [1000,2000]\n",
    "\n",
    "Brain = {'Nx':140,\n",
    "        'Ny':140,\n",
    "        'fovx': 210e-3, \n",
    "        'fovy': 210e-3, \n",
    "        'partial_fourier': 6/8, \n",
    "        'slice_thickness': 2e-3,\n",
    "        'b': brain_bval[ii],\n",
    "        'MMT':0,\n",
    "        'T_90':1.59,\n",
    "        'T_180':3.92,\n",
    "        'T_readout': 25.85\n",
    "}\n",
    "\n",
    "Liver = {'Nx':128,\n",
    "        'Ny':128,\n",
    "        'fovx': 384e-3, \n",
    "        'fovy': 384e-3, \n",
    "        'partial_fourier':  6/8, \n",
    "        'slice_thickness': 6e-3,\n",
    "        'b':liver_bval[ii],\n",
    "        'MMT':1,\n",
    "        'T_90':1.59,\n",
    "        'T_180':3.92,\n",
    "        'T_readout': 13.75\n",
    "}\n",
    "\n",
    "Heart = {'Nx':128,\n",
    "        'Ny':128,\n",
    "        'fovx': 256e-3, \n",
    "        'fovy': 256*1e-3, \n",
    "        'partial_fourier':  6/8, \n",
    "        'slice_thickness': 8e-3,\n",
    "        'b':heart_bval[ii],\n",
    "        'MMT':2,\n",
    "        'T_90':1.59,\n",
    "        'T_180':3.92,\n",
    "        'T_readout': 16.1\n",
    "}\n",
    "\n",
    "\n",
    "if pns_thresh == None:\n",
    "    folder = 'Exp-1'\n",
    "elif pns_thresh == 0.95 and max_slew_diffusion == 178:\n",
    "    folder = 'Exp-2'\n",
    "elif pns_thresh == 0.95 and max_slew_diffusion == 43:\n",
    "    folder = 'Exp-3'\n",
    "\n",
    "if max_grad == 200:\n",
    "    scanner = 'High'\n",
    "\n",
    "if max_grad == 38:\n",
    "    scanner = 'Conv'\n",
    "\n",
    "\n",
    "if mode =='Brain': \n",
    "    input_args = Brain\n",
    "if mode =='Liver': \n",
    "    input_args = Liver\n",
    "if mode =='Heart': \n",
    "    input_args = Heart\n",
    "    \n",
    "input_args['pns_thresh'] = pns_thresh\n",
    "\n",
    "\n",
    "matsave = os.path.join('Waveforms-Sim3',folder, scanner,mode + '_' + waveform + '_b'+str(input_args['b'])+'_pns'+str(input_args['pns_thresh'])+'_s'+str(max_slew_diffusion))\n",
    "if not os.path.exists(os.path.join('Waveforms-Sim3',folder, scanner)):\n",
    "    os.makedirs(os.path.join('Waveforms-Sim3',folder, scanner))\n",
    "\n",
    "print(matsave)\n",
    "input_args"
   ]
  },
  {
   "cell_type": "code",
   "execution_count": 162,
   "metadata": {},
   "outputs": [
    {
     "name": "stdout",
     "output_type": "stream",
     "text": [
      "\tPNS is 1.27\n",
      "TE = 85.41\n",
      "TE = 85.41 ms\n"
     ]
    }
   ],
   "source": [
    "# Here we initialize designing the gradient whether it is a TRAP or GROPT Waveform \n",
    "params = {\n",
    "        'gmax':max_grad, #mT/m --> Lower this a little to like 38\n",
    "        'smax':max_slew_diffusion, #T/m/ms --> Lower this a little to like 190\n",
    "        'T_readout':  input_args['T_readout'], #ms\n",
    "        'T_90': input_args['T_90'], #ms\n",
    "        'T_180': input_args['T_180'], #ms\n",
    "        'mode' : 'diff_bval',\n",
    "        'MMT' : input_args['MMT'], # either [0, 1, 2] depending on level of motion compensation\n",
    "        'b': input_args['b'], # s/mm2,\n",
    "    }\n",
    "    \n",
    "if mode == 'Heart' and params['b'] == 500:\n",
    "        params['gmax']-=2#2\n",
    "\n",
    "\n",
    "if pns_thresh is not None:\n",
    "        params['pns_thresh'] = pns_thresh\n",
    "\n",
    "if waveform =='T': #We do TRAPS \n",
    "    params['dt'] =1e-5 # system.grad_raster_time\n",
    "    params['gmax'] -=1\n",
    "\n",
    "    if pns_thresh == None:\n",
    "            params['pns_thresh'] = 3\n",
    "            pns_thresh = 3\n",
    "\n",
    "    start_bval = params['b']\n",
    "    gradient,Time,T_start,start_bval,p,= calc_trap(params.copy(),0.005,pns_thresh)\n",
    "    params['TE']  = T_start\n",
    "    print('TE = {:.2f}'.format(T_start))\n",
    "\n",
    "\n",
    "elif waveform == 'G':\n",
    "    params['dt'] = 3e-5\n",
    "    trap_params = params.copy()\n",
    "    trap_params['gmax'] = 100\n",
    "    gradient,Time,T_start,start_bval,p,= calc_trap(trap_params.copy(),0.001,4)\n",
    "    start_bval = params['b']\n",
    "    #T_start = 150\n",
    "    params['dt'] = 8e-5\n",
    "    \n",
    "    params2, gradient, te_track, b_track= calc_grop_hybrid(params.copy(), start_bval, T_start, 0.01, iterations=60)\n",
    "    params = params2.copy()\n",
    "print('TE = {:.2f} ms'.format(params['TE']))"
   ]
  },
  {
   "cell_type": "code",
   "execution_count": 163,
   "metadata": {},
   "outputs": [
    {
     "name": "stdout",
     "output_type": "stream",
     "text": [
      "Bval = 995.85s/mm2\n"
     ]
    },
    {
     "data": {
      "image/png": "[encoded data removed]",
      "text/plain": [
       "<Figure size 864x432 with 1 Axes>"
      ]
     },
     "metadata": {
      "needs_background": "light"
     },
     "output_type": "display_data"
    }
   ],
   "source": [
    "# Recompute G for gropt so it is the raster timing \n",
    "if waveform == 'T':\n",
    "    params['TE'] = T_start*1e-3\n",
    "    params['dt_out'] = system.grad_raster_time\n",
    "    bval_params=params.copy()\n",
    "    test = get_bval(gradient,bval_params)\n",
    "    print('Bval = {:.2f}s/mm2'.format(test))\n",
    "\n",
    "    \n",
    "if waveform == 'G':\n",
    "    params['dt_out'] = system.grad_raster_time\n",
    "    gradient,_ = gropt.gropt(params.copy())\n",
    "    bval_params=params.copy()\n",
    "    bval_params['dt'] = system.grad_raster_time\n",
    "    test = get_bval(gradient,bval_params)\n",
    "    print('Bval = {:.2f}s/mm2'.format(test))\n",
    "    params['TE'] = params['TE']*1e-3\n",
    "\n",
    "# Recompute Timings for Our TE\n",
    "G= np.squeeze(gradient)\n",
    "\n",
    "time = np.linspace(0,len(G),len(G))\n",
    "plt.figure(figsize=(12,6))\n",
    "plt.grid()\n",
    "plt.plot(time,G,linewidth =3 )\n",
    "#plt.plot(time[seg1_start:seg1_stop],diff_grad1,linewidth =3 )\n",
    "#plt.plot(time[seg2_start:seg2_stop],diff_grad2,linewidth =3 )\n",
    "plt.show()"
   ]
  },
  {
   "cell_type": "code",
   "execution_count": 164,
   "metadata": {},
   "outputs": [],
   "source": [
    "from scipy.io import savemat\n",
    "save_params = params.copy()\n",
    "\n",
    "save_params['TE'] = params['TE']*1e3\n",
    "save_params['Grad'] = G\n",
    "save_params['Time'] = time\n",
    "\n",
    "savemat(matsave + '.mat',save_params)"
   ]
  },
  {
   "cell_type": "code",
   "execution_count": 165,
   "metadata": {},
   "outputs": [
    {
     "data": {
      "text/plain": [
       "85.41286516853859"
      ]
     },
     "execution_count": 165,
     "metadata": {},
     "output_type": "execute_result"
    }
   ],
   "source": [
    "save_params['TE']"
   ]
  },
  {
   "cell_type": "code",
   "execution_count": 166,
   "metadata": {},
   "outputs": [
    {
     "data": {
      "text/plain": [
       "{'gmax': 42,\n",
       " 'smax': 178,\n",
       " 'T_readout': 25.85,\n",
       " 'T_90': 1.59,\n",
       " 'T_180': 3.92,\n",
       " 'mode': 'diff_bval',\n",
       " 'MMT': 0,\n",
       " 'b': 1000,\n",
       " 'dt': 1e-05,\n",
       " 'pns_thresh': 3,\n",
       " 'TE': 85.41286516853859,\n",
       " 'dt_out': 1e-05,\n",
       " 'Grad': array([0.        , 0.        , 0.        , ..., 0.00365217, 0.00182609,\n",
       "        0.        ]),\n",
       " 'Time': array([0.00000000e+00, 1.00016784e+00, 2.00033568e+00, ...,\n",
       "        5.95699966e+03, 5.95799983e+03, 5.95900000e+03])}"
      ]
     },
     "execution_count": 166,
     "metadata": {},
     "output_type": "execute_result"
    }
   ],
   "source": [
    "save_params"
   ]
  },
  {
   "cell_type": "code",
   "execution_count": null,
   "metadata": {},
   "outputs": [],
   "source": []
  },
  {
   "cell_type": "code",
   "execution_count": null,
   "metadata": {},
   "outputs": [],
   "source": []
  },
  {
   "cell_type": "code",
   "execution_count": null,
   "metadata": {},
   "outputs": [],
   "source": []
  },
  {
   "cell_type": "code",
   "execution_count": null,
   "metadata": {},
   "outputs": [],
   "source": []
  }
 ],
 "metadata": {
  "kernelspec": {
   "display_name": "Python 3.8.8 ('base')",
   "language": "python",
   "name": "python3"
  },
  "language_info": {
   "codemirror_mode": {
    "name": "ipython",
    "version": 3
   },
   "file_extension": ".py",
   "mimetype": "text/x-python",
   "name": "python",
   "nbconvert_exporter": "python",
   "pygments_lexer": "ipython3",
   "version": "3.8.8"
  },
  "vscode": {
   "interpreter": {
    "hash": "6c8cf18e8b2eff371b76e351ed7fc879961be58abee7a7213b732cee5e114a72"
   }
  }
 },
 "nbformat": 4,
 "nbformat_minor": 2
}
